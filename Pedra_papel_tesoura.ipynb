{
  "nbformat": 4,
  "nbformat_minor": 0,
  "metadata": {
    "colab": {
      "name": "Untitled5.ipynb",
      "version": "0.3.2",
      "provenance": [],
      "include_colab_link": true
    },
    "kernelspec": {
      "name": "python2",
      "display_name": "Python 2"
    }
  },
  "cells": [
    {
      "cell_type": "markdown",
      "metadata": {
        "id": "view-in-github",
        "colab_type": "text"
      },
      "source": [
        "<a href=\"https://colab.research.google.com/github/Lu-Brito/Listas_Python/blob/master/Pedra_papel_tesoura.ipynb\" target=\"_parent\"><img src=\"https://colab.research.google.com/assets/colab-badge.svg\" alt=\"Open In Colab\"/></a>"
      ]
    },
    {
      "metadata": {
        "id": "AZmlhWfUsII7",
        "colab_type": "code",
        "colab": {
          "base_uri": "https://localhost:8080/",
          "height": 85
        },
        "outputId": "57aab16d-6308-464c-e104-b2b9036bbc04"
      },
      "cell_type": "code",
      "source": [
        "'''this program is an automatic version of rock, paper and scissors'''\n",
        "\n",
        "#importações\n",
        "from random import randint\n",
        "#3\n",
        "options = ['ROCK','PAPER','SCISSORS']\n",
        "#4 creating a dict\n",
        "message = {'tie':'Yawm it\\'s a tie', 'won':'Yay you won!', 'lost':'Aww you lost!'}\n",
        "\n",
        "#5 create a function that decides who the winner is\n",
        "def decide_winner(user_choice, computer_choice):\n",
        "  #6 building decide_winner function\n",
        "  print 'You selected: %s' % user_choice\n",
        "  #7\n",
        "  print 'Computer selected: %s' % computer_choice\n",
        "  #8\n",
        "  if user_choice == computer_choice:\n",
        "    print message['tie']\n",
        "    #9 e 10\n",
        "  elif user_choice == options[0] and computer_choice == options[2]:\n",
        "    print message['won']\n",
        "  elif user_choice == 'PAPER' and computer_choice == 'ROCK':\n",
        "    print message['won']\n",
        "  elif user_choice == 'SCISSORS' and computer_choice == 'PAPER':\n",
        "    print message['won']\n",
        "  else:\n",
        "    print message['lost']\n",
        " \n",
        "'''writing the function that starts the game'''\n",
        "#12\n",
        "def play_RPS():\n",
        "  #13\n",
        "  user_choice = raw_input ('Enter Rock, Paper or Scissors: ')\n",
        "  #14 \n",
        "  user_choice = user_choice.upper()\n",
        "  #15\n",
        "  computer_choice = options[randint(0,2)]\n",
        "  \n",
        "#16 decide winner function\n",
        "  decide_winner(user_choice, computer_choice)\n",
        "#17\n",
        "play_RPS()"
      ],
      "execution_count": 6,
      "outputs": [
        {
          "output_type": "stream",
          "text": [
            "Enter Rock, Paper or Scissors: paper\n",
            "You selected: PAPER\n",
            "Computer selected: SCISSORS\n",
            "Aww you lost!\n"
          ],
          "name": "stdout"
        }
      ]
    }
  ]
}