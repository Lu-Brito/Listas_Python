{
  "nbformat": 4,
  "nbformat_minor": 0,
  "metadata": {
    "colab": {
      "name": "Untitled7.ipynb",
      "version": "0.3.2",
      "provenance": [],
      "include_colab_link": true
    },
    "kernelspec": {
      "name": "python2",
      "display_name": "Python 2"
    }
  },
  "cells": [
    {
      "cell_type": "markdown",
      "metadata": {
        "id": "view-in-github",
        "colab_type": "text"
      },
      "source": [
        "<a href=\"https://colab.research.google.com/github/Lu-Brito/Listas_Python/blob/master/howiseverybodydoing.ipynb\" target=\"_parent\"><img src=\"https://colab.research.google.com/assets/colab-badge.svg\" alt=\"Open In Colab\"/></a>"
      ]
    },
    {
      "metadata": {
        "id": "dm3sdFJYbpwY",
        "colab_type": "code",
        "colab": {
          "base_uri": "https://localhost:8080/",
          "height": 51
        },
        "outputId": "951de8df-8b56-4c75-aa61-1793ecc61c56"
      },
      "cell_type": "code",
      "source": [
        "lloyd = {\n",
        "  \"name\": \"Lloyd\",\n",
        "  \"homework\": [90.0, 97.0, 75.0, 92.0],\n",
        "  \"quizzes\": [88.0, 40.0, 94.0],\n",
        "  \"tests\": [75.0, 90.0]\n",
        "}\n",
        "alice = {\n",
        "  \"name\": \"Alice\",\n",
        "  \"homework\": [100.0, 92.0, 98.0, 100.0],\n",
        "  \"quizzes\": [82.0, 83.0, 91.0],\n",
        "  \"tests\": [89.0, 97.0]\n",
        "}\n",
        "tyler = {\n",
        "  \"name\": \"Tyler\",\n",
        "  \"homework\": [0.0, 87.0, 75.0, 22.0],\n",
        "  \"quizzes\": [0.0, 75.0, 78.0],\n",
        "  \"tests\": [100.0, 100.0]\n",
        "}\n",
        "\n",
        "# Add your function below!\n",
        "def average(numbers):\n",
        "  total = sum(numbers)\n",
        "  average = float(total)/len(numbers)\n",
        "  return average\n",
        "\n",
        "def get_average(student):\n",
        "  homework = average(student[\"homework\"]) \n",
        "  quizzes = average(student[\"quizzes\"])\n",
        "  tests = average(student[\"tests\"])\n",
        "  get_average = 0.1 * homework + 0.3 * quizzes + 0.6 * tests\n",
        "  return get_average\n",
        "\n",
        "def get_letter_grade(score):\n",
        "  if score >= 90:\n",
        "    return \"A\"\n",
        "  elif score >= 80:\n",
        "    return \"B\"\n",
        "  elif score >= 70:\n",
        "    return \"C\"\n",
        "  elif score >= 60:\n",
        "    return \"D\"\n",
        "  else:\n",
        "    return \"F\"\n",
        "#print get_letter_grade(get_average(lloyd))\n",
        "\n",
        "def get_class_average(class_list):\n",
        "  results = []\n",
        "  for student in class_list:\n",
        "    results.append(get_average(student))\n",
        "  return average(results)\n",
        "    \n",
        "students = [lloyd, alice, tyler]\n",
        "print get_class_average(students)\n",
        "print get_letter_grade(get_class_average(students))\n",
        "\n",
        "\n",
        "  "
      ],
      "execution_count": 2,
      "outputs": [
        {
          "output_type": "stream",
          "text": [
            "83.8666666667\n",
            "B\n"
          ],
          "name": "stdout"
        }
      ]
    }
  ]
}